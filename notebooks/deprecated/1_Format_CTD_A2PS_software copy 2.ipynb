{
 "cells": [
  {
   "cell_type": "markdown",
   "metadata": {},
   "source": [
    "# Subocean and CTD data merging + correction\n",
    "The goal of this notebook is to show how the subocean data is currently beeing processed, and to have a base for asking the questions\n"
   ]
  },
  {
   "cell_type": "code",
   "execution_count": 1,
   "metadata": {},
   "outputs": [],
   "source": [
    "import numpy as np\n",
    "import pandas as pd\n",
    "import os \n",
    "import glob\n",
    "import matplotlib.pyplot as plt\n",
    "import xarray as xr\n",
    "import json\n",
    "from pathlib import Path"
   ]
  },
  {
   "cell_type": "code",
   "execution_count": 2,
   "metadata": {},
   "outputs": [],
   "source": [
    "# List subfolders\n",
    "ctd_path = \"C:/Users/cruz/Documents/SENSE/CTD_processing/data/Level1/Forel-GroupedStn\"\n",
    "subocean_path = \"C:/Users/cruz/Documents/SENSE/SubOcean/data/raw/Forel-GroupedStn\""
   ]
  },
  {
   "cell_type": "code",
   "execution_count": 3,
   "metadata": {},
   "outputs": [
    {
     "name": "stdout",
     "output_type": "stream",
     "text": [
      "Available subfolders:\n",
      "- StnF0\n",
      "- StnF1\n",
      "- StnF2\n",
      "- StnF3\n",
      "- StnF4\n",
      "- StnF5\n"
     ]
    }
   ],
   "source": [
    "subfolders = [f.path for f in os.scandir(ctd_path) if f.is_dir()]\n",
    "\n",
    "print(\"Available subfolders:\")\n",
    "folderlist = []\n",
    "for folder in subfolders:\n",
    "    sub_folders = folder.split(\"/\")[-1]\n",
    "    sub_folders = sub_folders.split(\"\\\\\")[-1]\n",
    "    print(f\"- {sub_folders}\")\n",
    "    folderlist.append(sub_folders)\n",
    " "
   ]
  },
  {
   "cell_type": "markdown",
   "metadata": {},
   "source": [
    "## Select one of these subfolders, one correction at a time"
   ]
  },
  {
   "cell_type": "code",
   "execution_count": 4,
   "metadata": {},
   "outputs": [],
   "source": [
    "subfolder = folderlist[1]"
   ]
  },
  {
   "cell_type": "code",
   "execution_count": 5,
   "metadata": {},
   "outputs": [],
   "source": [
    "directory_ctd = os.path.join(ctd_path, subfolder)\n",
    "ctd_file = glob.glob(directory_ctd + \"/*.csv\")\n",
    "ctd_file = ctd_file[0]"
   ]
  },
  {
   "cell_type": "code",
   "execution_count": 6,
   "metadata": {},
   "outputs": [
    {
     "data": {
      "text/plain": [
       "['C:/Users/cruz/Documents/SENSE/CTD_processing/data/Level1/Forel-GroupedStn\\\\StnF1\\\\2024-07-04T024636 SBE0251267.csv']"
      ]
     },
     "execution_count": 6,
     "metadata": {},
     "output_type": "execute_result"
    }
   ],
   "source": [
    "glob.glob(directory_ctd + \"/*\")"
   ]
  },
  {
   "cell_type": "code",
   "execution_count": 7,
   "metadata": {},
   "outputs": [
    {
     "name": "stdout",
     "output_type": "stream",
     "text": [
      "['C:/Users/cruz/Documents/SENSE/SubOcean/data/raw/Forel-GroupedStn\\\\StnF1\\\\SubOceanExperiment2024-07-04T10-39-29.txt', 'C:/Users/cruz/Documents/SENSE/SubOcean/data/raw/Forel-GroupedStn\\\\StnF1\\\\SubOceanExperiment2024-07-04T15-39-33.txt']\n",
      "['C:/Users/cruz/Documents/SENSE/SubOcean/data/raw/Forel-GroupedStn\\\\StnF1\\\\SubOceanExperiment2024-07-04T10-39-29.log', 'C:/Users/cruz/Documents/SENSE/SubOcean/data/raw/Forel-GroupedStn\\\\StnF1\\\\SubOceanExperiment2024-07-04T15-39-33.log']\n"
     ]
    }
   ],
   "source": [
    "\n",
    "directory_subocean = os.path.join(subocean_path, subfolder)\n",
    "subocean_file = glob.glob(directory_subocean + \"/*.txt\")\n",
    "subocean_log=  glob.glob(directory_subocean + \"/*.log\")\n",
    "print(subocean_file)\n",
    "print(subocean_log)\n",
    "#Filter out elemenets of the list that dont contain the word \"subocean\"\n",
    "subocean_file = [x for x in subocean_file if \"SubOceanExperiment\" in x]\n",
    "subocean_file = subocean_file[1]\n",
    "subocean_log = subocean_log[1]"
   ]
  },
  {
   "cell_type": "code",
   "execution_count": 8,
   "metadata": {},
   "outputs": [],
   "source": [
    "subocean_df = pd.read_csv(subocean_file, sep='\\t')\n",
    "max_pressure_subocean = subocean_df[\"Hydrostatic pressure (bar)\"].argmax()\n",
    "subocean_df_downard = subocean_df.iloc[0:max_pressure_subocean]\n",
    "subocean_df_upward = subocean_df.iloc[max_pressure_subocean:]\n",
    "subocean_file_downward = subocean_file.replace(\".txt\", \"_downward.txt\").replace(\"raw\", \"Level0\")\n",
    "subocean_file_upward = subocean_file.replace(\".txt\", \"_upward.txt\").replace(\"raw\", \"Level0\")"
   ]
  },
  {
   "cell_type": "code",
   "execution_count": 60,
   "metadata": {},
   "outputs": [],
   "source": [
    "#Export to csv the downward and upward profiles\n",
    "subocean_df_downard.to_csv(subocean_file_downward, sep='\\t', index=False)\n",
    "subocean_df_upward.to_csv(subocean_file_upward, sep='\\t', index=False)"
   ]
  },
  {
   "cell_type": "markdown",
   "metadata": {},
   "source": [
    "Open the two datasets (subocean and ctd data)"
   ]
  },
  {
   "cell_type": "code",
   "execution_count": 61,
   "metadata": {},
   "outputs": [
    {
     "data": {
      "text/plain": [
       "'C:/Users/cruz/Documents/SENSE/CTD_processing/data/Level1/Forel-GroupedStn\\\\StnF1\\\\2024-07-04T024636 SBE0251267.csv'"
      ]
     },
     "execution_count": 61,
     "metadata": {},
     "output_type": "execute_result"
    }
   ],
   "source": [
    "ctd_file"
   ]
  },
  {
   "cell_type": "code",
   "execution_count": 9,
   "metadata": {},
   "outputs": [],
   "source": [
    "ctd_df = pd.read_csv(ctd_file)\n",
    "ctd_ds = ctd_df.to_xarray()"
   ]
  },
  {
   "cell_type": "code",
   "execution_count": 10,
   "metadata": {},
   "outputs": [],
   "source": [
    "CTD_pressure_col = \"pressure_dbar\"#Rename \"pressure_dbar\" to \"Pres\"\n",
    "ctd_ds = ctd_ds.rename_vars({CTD_pressure_col:\"Pres\"})"
   ]
  },
  {
   "cell_type": "code",
   "execution_count": 12,
   "metadata": {},
   "outputs": [
    {
     "data": {
      "text/html": [
       "<div><svg style=\"position: absolute; width: 0; height: 0; overflow: hidden\">\n",
       "<defs>\n",
       "<symbol id=\"icon-database\" viewBox=\"0 0 32 32\">\n",
       "<path d=\"M16 0c-8.837 0-16 2.239-16 5v4c0 2.761 7.163 5 16 5s16-2.239 16-5v-4c0-2.761-7.163-5-16-5z\"></path>\n",
       "<path d=\"M16 17c-8.837 0-16-2.239-16-5v6c0 2.761 7.163 5 16 5s16-2.239 16-5v-6c0 2.761-7.163 5-16 5z\"></path>\n",
       "<path d=\"M16 26c-8.837 0-16-2.239-16-5v6c0 2.761 7.163 5 16 5s16-2.239 16-5v-6c0 2.761-7.163 5-16 5z\"></path>\n",
       "</symbol>\n",
       "<symbol id=\"icon-file-text2\" viewBox=\"0 0 32 32\">\n",
       "<path d=\"M28.681 7.159c-0.694-0.947-1.662-2.053-2.724-3.116s-2.169-2.030-3.116-2.724c-1.612-1.182-2.393-1.319-2.841-1.319h-15.5c-1.378 0-2.5 1.121-2.5 2.5v27c0 1.378 1.122 2.5 2.5 2.5h23c1.378 0 2.5-1.122 2.5-2.5v-19.5c0-0.448-0.137-1.23-1.319-2.841zM24.543 5.457c0.959 0.959 1.712 1.825 2.268 2.543h-4.811v-4.811c0.718 0.556 1.584 1.309 2.543 2.268zM28 29.5c0 0.271-0.229 0.5-0.5 0.5h-23c-0.271 0-0.5-0.229-0.5-0.5v-27c0-0.271 0.229-0.5 0.5-0.5 0 0 15.499-0 15.5 0v7c0 0.552 0.448 1 1 1h7v19.5z\"></path>\n",
       "<path d=\"M23 26h-14c-0.552 0-1-0.448-1-1s0.448-1 1-1h14c0.552 0 1 0.448 1 1s-0.448 1-1 1z\"></path>\n",
       "<path d=\"M23 22h-14c-0.552 0-1-0.448-1-1s0.448-1 1-1h14c0.552 0 1 0.448 1 1s-0.448 1-1 1z\"></path>\n",
       "<path d=\"M23 18h-14c-0.552 0-1-0.448-1-1s0.448-1 1-1h14c0.552 0 1 0.448 1 1s-0.448 1-1 1z\"></path>\n",
       "</symbol>\n",
       "</defs>\n",
       "</svg>\n",
       "<style>/* CSS stylesheet for displaying xarray objects in jupyterlab.\n",
       " *\n",
       " */\n",
       "\n",
       ":root {\n",
       "  --xr-font-color0: var(--jp-content-font-color0, rgba(0, 0, 0, 1));\n",
       "  --xr-font-color2: var(--jp-content-font-color2, rgba(0, 0, 0, 0.54));\n",
       "  --xr-font-color3: var(--jp-content-font-color3, rgba(0, 0, 0, 0.38));\n",
       "  --xr-border-color: var(--jp-border-color2, #e0e0e0);\n",
       "  --xr-disabled-color: var(--jp-layout-color3, #bdbdbd);\n",
       "  --xr-background-color: var(--jp-layout-color0, white);\n",
       "  --xr-background-color-row-even: var(--jp-layout-color1, white);\n",
       "  --xr-background-color-row-odd: var(--jp-layout-color2, #eeeeee);\n",
       "}\n",
       "\n",
       "html[theme=dark],\n",
       "body[data-theme=dark],\n",
       "body.vscode-dark {\n",
       "  --xr-font-color0: rgba(255, 255, 255, 1);\n",
       "  --xr-font-color2: rgba(255, 255, 255, 0.54);\n",
       "  --xr-font-color3: rgba(255, 255, 255, 0.38);\n",
       "  --xr-border-color: #1F1F1F;\n",
       "  --xr-disabled-color: #515151;\n",
       "  --xr-background-color: #111111;\n",
       "  --xr-background-color-row-even: #111111;\n",
       "  --xr-background-color-row-odd: #313131;\n",
       "}\n",
       "\n",
       ".xr-wrap {\n",
       "  display: block !important;\n",
       "  min-width: 300px;\n",
       "  max-width: 700px;\n",
       "}\n",
       "\n",
       ".xr-text-repr-fallback {\n",
       "  /* fallback to plain text repr when CSS is not injected (untrusted notebook) */\n",
       "  display: none;\n",
       "}\n",
       "\n",
       ".xr-header {\n",
       "  padding-top: 6px;\n",
       "  padding-bottom: 6px;\n",
       "  margin-bottom: 4px;\n",
       "  border-bottom: solid 1px var(--xr-border-color);\n",
       "}\n",
       "\n",
       ".xr-header > div,\n",
       ".xr-header > ul {\n",
       "  display: inline;\n",
       "  margin-top: 0;\n",
       "  margin-bottom: 0;\n",
       "}\n",
       "\n",
       ".xr-obj-type,\n",
       ".xr-array-name {\n",
       "  margin-left: 2px;\n",
       "  margin-right: 10px;\n",
       "}\n",
       "\n",
       ".xr-obj-type {\n",
       "  color: var(--xr-font-color2);\n",
       "}\n",
       "\n",
       ".xr-sections {\n",
       "  padding-left: 0 !important;\n",
       "  display: grid;\n",
       "  grid-template-columns: 150px auto auto 1fr 20px 20px;\n",
       "}\n",
       "\n",
       ".xr-section-item {\n",
       "  display: contents;\n",
       "}\n",
       "\n",
       ".xr-section-item input {\n",
       "  display: none;\n",
       "}\n",
       "\n",
       ".xr-section-item input + label {\n",
       "  color: var(--xr-disabled-color);\n",
       "}\n",
       "\n",
       ".xr-section-item input:enabled + label {\n",
       "  cursor: pointer;\n",
       "  color: var(--xr-font-color2);\n",
       "}\n",
       "\n",
       ".xr-section-item input:enabled + label:hover {\n",
       "  color: var(--xr-font-color0);\n",
       "}\n",
       "\n",
       ".xr-section-summary {\n",
       "  grid-column: 1;\n",
       "  color: var(--xr-font-color2);\n",
       "  font-weight: 500;\n",
       "}\n",
       "\n",
       ".xr-section-summary > span {\n",
       "  display: inline-block;\n",
       "  padding-left: 0.5em;\n",
       "}\n",
       "\n",
       ".xr-section-summary-in:disabled + label {\n",
       "  color: var(--xr-font-color2);\n",
       "}\n",
       "\n",
       ".xr-section-summary-in + label:before {\n",
       "  display: inline-block;\n",
       "  content: '►';\n",
       "  font-size: 11px;\n",
       "  width: 15px;\n",
       "  text-align: center;\n",
       "}\n",
       "\n",
       ".xr-section-summary-in:disabled + label:before {\n",
       "  color: var(--xr-disabled-color);\n",
       "}\n",
       "\n",
       ".xr-section-summary-in:checked + label:before {\n",
       "  content: '▼';\n",
       "}\n",
       "\n",
       ".xr-section-summary-in:checked + label > span {\n",
       "  display: none;\n",
       "}\n",
       "\n",
       ".xr-section-summary,\n",
       ".xr-section-inline-details {\n",
       "  padding-top: 4px;\n",
       "  padding-bottom: 4px;\n",
       "}\n",
       "\n",
       ".xr-section-inline-details {\n",
       "  grid-column: 2 / -1;\n",
       "}\n",
       "\n",
       ".xr-section-details {\n",
       "  display: none;\n",
       "  grid-column: 1 / -1;\n",
       "  margin-bottom: 5px;\n",
       "}\n",
       "\n",
       ".xr-section-summary-in:checked ~ .xr-section-details {\n",
       "  display: contents;\n",
       "}\n",
       "\n",
       ".xr-array-wrap {\n",
       "  grid-column: 1 / -1;\n",
       "  display: grid;\n",
       "  grid-template-columns: 20px auto;\n",
       "}\n",
       "\n",
       ".xr-array-wrap > label {\n",
       "  grid-column: 1;\n",
       "  vertical-align: top;\n",
       "}\n",
       "\n",
       ".xr-preview {\n",
       "  color: var(--xr-font-color3);\n",
       "}\n",
       "\n",
       ".xr-array-preview,\n",
       ".xr-array-data {\n",
       "  padding: 0 5px !important;\n",
       "  grid-column: 2;\n",
       "}\n",
       "\n",
       ".xr-array-data,\n",
       ".xr-array-in:checked ~ .xr-array-preview {\n",
       "  display: none;\n",
       "}\n",
       "\n",
       ".xr-array-in:checked ~ .xr-array-data,\n",
       ".xr-array-preview {\n",
       "  display: inline-block;\n",
       "}\n",
       "\n",
       ".xr-dim-list {\n",
       "  display: inline-block !important;\n",
       "  list-style: none;\n",
       "  padding: 0 !important;\n",
       "  margin: 0;\n",
       "}\n",
       "\n",
       ".xr-dim-list li {\n",
       "  display: inline-block;\n",
       "  padding: 0;\n",
       "  margin: 0;\n",
       "}\n",
       "\n",
       ".xr-dim-list:before {\n",
       "  content: '(';\n",
       "}\n",
       "\n",
       ".xr-dim-list:after {\n",
       "  content: ')';\n",
       "}\n",
       "\n",
       ".xr-dim-list li:not(:last-child):after {\n",
       "  content: ',';\n",
       "  padding-right: 5px;\n",
       "}\n",
       "\n",
       ".xr-has-index {\n",
       "  font-weight: bold;\n",
       "}\n",
       "\n",
       ".xr-var-list,\n",
       ".xr-var-item {\n",
       "  display: contents;\n",
       "}\n",
       "\n",
       ".xr-var-item > div,\n",
       ".xr-var-item label,\n",
       ".xr-var-item > .xr-var-name span {\n",
       "  background-color: var(--xr-background-color-row-even);\n",
       "  margin-bottom: 0;\n",
       "}\n",
       "\n",
       ".xr-var-item > .xr-var-name:hover span {\n",
       "  padding-right: 5px;\n",
       "}\n",
       "\n",
       ".xr-var-list > li:nth-child(odd) > div,\n",
       ".xr-var-list > li:nth-child(odd) > label,\n",
       ".xr-var-list > li:nth-child(odd) > .xr-var-name span {\n",
       "  background-color: var(--xr-background-color-row-odd);\n",
       "}\n",
       "\n",
       ".xr-var-name {\n",
       "  grid-column: 1;\n",
       "}\n",
       "\n",
       ".xr-var-dims {\n",
       "  grid-column: 2;\n",
       "}\n",
       "\n",
       ".xr-var-dtype {\n",
       "  grid-column: 3;\n",
       "  text-align: right;\n",
       "  color: var(--xr-font-color2);\n",
       "}\n",
       "\n",
       ".xr-var-preview {\n",
       "  grid-column: 4;\n",
       "}\n",
       "\n",
       ".xr-index-preview {\n",
       "  grid-column: 2 / 5;\n",
       "  color: var(--xr-font-color2);\n",
       "}\n",
       "\n",
       ".xr-var-name,\n",
       ".xr-var-dims,\n",
       ".xr-var-dtype,\n",
       ".xr-preview,\n",
       ".xr-attrs dt {\n",
       "  white-space: nowrap;\n",
       "  overflow: hidden;\n",
       "  text-overflow: ellipsis;\n",
       "  padding-right: 10px;\n",
       "}\n",
       "\n",
       ".xr-var-name:hover,\n",
       ".xr-var-dims:hover,\n",
       ".xr-var-dtype:hover,\n",
       ".xr-attrs dt:hover {\n",
       "  overflow: visible;\n",
       "  width: auto;\n",
       "  z-index: 1;\n",
       "}\n",
       "\n",
       ".xr-var-attrs,\n",
       ".xr-var-data,\n",
       ".xr-index-data {\n",
       "  display: none;\n",
       "  background-color: var(--xr-background-color) !important;\n",
       "  padding-bottom: 5px !important;\n",
       "}\n",
       "\n",
       ".xr-var-attrs-in:checked ~ .xr-var-attrs,\n",
       ".xr-var-data-in:checked ~ .xr-var-data,\n",
       ".xr-index-data-in:checked ~ .xr-index-data {\n",
       "  display: block;\n",
       "}\n",
       "\n",
       ".xr-var-data > table {\n",
       "  float: right;\n",
       "}\n",
       "\n",
       ".xr-var-name span,\n",
       ".xr-var-data,\n",
       ".xr-index-name div,\n",
       ".xr-index-data,\n",
       ".xr-attrs {\n",
       "  padding-left: 25px !important;\n",
       "}\n",
       "\n",
       ".xr-attrs,\n",
       ".xr-var-attrs,\n",
       ".xr-var-data,\n",
       ".xr-index-data {\n",
       "  grid-column: 1 / -1;\n",
       "}\n",
       "\n",
       "dl.xr-attrs {\n",
       "  padding: 0;\n",
       "  margin: 0;\n",
       "  display: grid;\n",
       "  grid-template-columns: 125px auto;\n",
       "}\n",
       "\n",
       ".xr-attrs dt,\n",
       ".xr-attrs dd {\n",
       "  padding: 0;\n",
       "  margin: 0;\n",
       "  float: left;\n",
       "  padding-right: 10px;\n",
       "  width: auto;\n",
       "}\n",
       "\n",
       ".xr-attrs dt {\n",
       "  font-weight: normal;\n",
       "  grid-column: 1;\n",
       "}\n",
       "\n",
       ".xr-attrs dt:hover span {\n",
       "  display: inline-block;\n",
       "  background: var(--xr-background-color);\n",
       "  padding-right: 10px;\n",
       "}\n",
       "\n",
       ".xr-attrs dd {\n",
       "  grid-column: 2;\n",
       "  white-space: pre-wrap;\n",
       "  word-break: break-all;\n",
       "}\n",
       "\n",
       ".xr-icon-database,\n",
       ".xr-icon-file-text2,\n",
       ".xr-no-icon {\n",
       "  display: inline-block;\n",
       "  vertical-align: middle;\n",
       "  width: 1em;\n",
       "  height: 1.5em !important;\n",
       "  stroke-width: 0;\n",
       "  stroke: currentColor;\n",
       "  fill: currentColor;\n",
       "}\n",
       "</style><pre class='xr-text-repr-fallback'>&lt;xarray.DataArray &#x27;Pres&#x27; ()&gt;\n",
       "array(606.908)</pre><div class='xr-wrap' style='display:none'><div class='xr-header'><div class='xr-obj-type'>xarray.DataArray</div><div class='xr-array-name'>'Pres'</div></div><ul class='xr-sections'><li class='xr-section-item'><div class='xr-array-wrap'><input id='section-9f95808c-f882-4d17-a208-b23fcc869894' class='xr-array-in' type='checkbox' checked><label for='section-9f95808c-f882-4d17-a208-b23fcc869894' title='Show/hide data repr'><svg class='icon xr-icon-database'><use xlink:href='#icon-database'></use></svg></label><div class='xr-array-preview xr-preview'><span>606.9</span></div><div class='xr-array-data'><pre>array(606.908)</pre></div></div></li><li class='xr-section-item'><input id='section-15c8a823-4e16-4028-bf87-87fc2e4efc4a' class='xr-section-summary-in' type='checkbox' disabled ><label for='section-15c8a823-4e16-4028-bf87-87fc2e4efc4a' class='xr-section-summary'  title='Expand/collapse section'>Coordinates: <span>(0)</span></label><div class='xr-section-inline-details'></div><div class='xr-section-details'><ul class='xr-var-list'></ul></div></li><li class='xr-section-item'><input id='section-09d77934-d302-495a-8129-82366f7c705a' class='xr-section-summary-in' type='checkbox' disabled ><label for='section-09d77934-d302-495a-8129-82366f7c705a' class='xr-section-summary'  title='Expand/collapse section'>Indexes: <span>(0)</span></label><div class='xr-section-inline-details'></div><div class='xr-section-details'><ul class='xr-var-list'></ul></div></li><li class='xr-section-item'><input id='section-161c66ee-6bd4-4743-952f-acae32c2e6ad' class='xr-section-summary-in' type='checkbox' disabled ><label for='section-161c66ee-6bd4-4743-952f-acae32c2e6ad' class='xr-section-summary'  title='Expand/collapse section'>Attributes: <span>(0)</span></label><div class='xr-section-inline-details'></div><div class='xr-section-details'><dl class='xr-attrs'></dl></div></li></ul></div></div>"
      ],
      "text/plain": [
       "<xarray.DataArray 'Pres' ()>\n",
       "array(606.908)"
      ]
     },
     "execution_count": 12,
     "metadata": {},
     "output_type": "execute_result"
    }
   ],
   "source": [
    "ctd_ds[\"Pres\"].max()"
   ]
  },
  {
   "cell_type": "markdown",
   "metadata": {},
   "source": [
    "# Section 1: Preprocessing"
   ]
  },
  {
   "cell_type": "markdown",
   "metadata": {},
   "source": [
    "# Formatting for A2PS"
   ]
  },
  {
   "cell_type": "markdown",
   "metadata": {},
   "source": [
    "We work with xarray as it'better for multidimensional data and interpolation, but it need some standardization on variable names"
   ]
  },
  {
   "cell_type": "markdown",
   "metadata": {},
   "source": [
    "We would like to make a match between the ctd and the subocean data, for that, we choose the pressure to be our matching coordinates variable. The profiles might not be done at the same time but can still be used."
   ]
  },
  {
   "cell_type": "code",
   "execution_count": 64,
   "metadata": {},
   "outputs": [],
   "source": [
    "# Set 'Depth' as coordinate for both datasets and remove the original index\n",
    "ctd_ds = ctd_ds.swap_dims({'index': 'Pres'})\n",
    "ctd_ds = ctd_ds.set_coords('Pres')\n",
    "ctd_ds = ctd_ds.drop_vars('index')"
   ]
  },
  {
   "cell_type": "markdown",
   "metadata": {},
   "source": [
    "We do not want a two way profile, so we separate the downward and upward profile"
   ]
  },
  {
   "cell_type": "code",
   "execution_count": 65,
   "metadata": {},
   "outputs": [],
   "source": [
    "max_pressure_ctd = ctd_ds[\"Pres\"].argmax()\n",
    "ctd_ds_downard = ctd_ds.isel(Pres=slice(None, max_pressure_ctd.values))\n",
    "ctd_ds_downard_unique = ctd_ds_downard.groupby(\"Pres\").mean()\n",
    "ctd_ds_downard_unique[\"Oxygen_percent\"] = ctd_ds_downard_unique[\"oxygen_saturation_percent\"]*0.21\n",
    "#Rename \"pressure_dbar\" to \"Pres\"\n",
    "ctd_ds_downard_unique = ctd_ds_downard_unique.rename_vars({\"Pres\":\"PrdE\"})\n",
    "ctd_ds_downard_unique = ctd_ds_downard_unique.rename_vars({\"temperature_C\":\"Tv2C\"})\n",
    "ctd_ds_downard_unique = ctd_ds_downard_unique.rename_vars({\"salinity_psu\":\"Sal2\"})\n",
    "ctd_ds_downard_unique = ctd_ds_downard_unique.rename_vars({\"Oxygen_percent\":\"Sbeox2PS\"})"
   ]
  },
  {
   "cell_type": "code",
   "execution_count": 66,
   "metadata": {},
   "outputs": [],
   "source": [
    "ctd_A2PS = ctd_ds_downard_unique[[\"Tv2C\", \"Sal2\", \"Sbeox2PS\", \"PrdE\"]].to_dataframe()\n",
    "ctd_A2PS.reset_index(inplace=True, drop=True)\n",
    "#I want to drop duplicates of ctd_A2PS_int based on the PrdE column\n",
    "ctd_A2PS_not_duplicated = ctd_A2PS.drop_duplicates(subset='PrdE', keep='first')\n",
    "ctd_A2PS_not_duplicated = ctd_A2PS_not_duplicated.sort_values(by=[\"PrdE\"], ascending=True)\n",
    "formatted_ctd_file = ctd_file.replace(\".csv\", \"_downard_formatted.asc\").split(\"\\\\\")[-1]\n",
    "subocean_L0= directory_subocean.replace(\"raw\", \"Level0\")\n",
    "CTD_file_path_downward = subocean_L0 + \"/\"+ formatted_ctd_file\n",
    "ctd_A2PS_not_duplicated.to_csv(CTD_file_path_downward, sep='\\t', index=False)"
   ]
  },
  {
   "cell_type": "code",
   "execution_count": 67,
   "metadata": {},
   "outputs": [],
   "source": [
    "\n",
    "ctd_ds_upward = ctd_ds.isel(Pres=slice(max_pressure_ctd.values, None))"
   ]
  },
  {
   "cell_type": "code",
   "execution_count": null,
   "metadata": {},
   "outputs": [],
   "source": []
  },
  {
   "cell_type": "markdown",
   "metadata": {},
   "source": [
    "Create the pressure grid"
   ]
  },
  {
   "cell_type": "code",
   "execution_count": 68,
   "metadata": {},
   "outputs": [],
   "source": [
    "if len(ctd_ds_upward.Pres)>1:\n",
    "    ctd_ds_upward_unique = ctd_ds_upward.groupby(\"Pres\").mean()\n",
    "    ctd_ds_upward_unique[\"Oxygen_percent\"] = ctd_ds_upward_unique[\"oxygen_saturation_percent\"]*0.21\n",
    "    #Rename \"pressure_dbar\" to \"Pres\"\n",
    "    ctd_ds_upward_unique = ctd_ds_upward_unique.rename_vars({\"Pres\":\"PrdE\"})\n",
    "    ctd_ds_upward_unique = ctd_ds_upward_unique.rename_vars({\"temperature_C\":\"Tv2C\"})\n",
    "    ctd_ds_upward_unique = ctd_ds_upward_unique.rename_vars({\"salinity_psu\":\"Sal2\"})\n",
    "    ctd_ds_upward_unique = ctd_ds_upward_unique.rename_vars({\"Oxygen_percent\":\"Sbeox2PS\"})\n",
    "    ctd_A2PS = ctd_ds_upward_unique[[\"Tv2C\", \"Sal2\", \"Sbeox2PS\", \"PrdE\"]].to_dataframe()\n",
    "    ctd_A2PS.reset_index(inplace=True, drop=True)\n",
    "    #I want to drop duplicates of ctd_A2PS_int based on the PrdE column\n",
    "    ctd_A2PS_not_duplicated = ctd_A2PS.drop_duplicates(subset='PrdE', keep='first')\n",
    "    ctd_A2PS_not_duplicated = ctd_A2PS_not_duplicated.sort_values(by=[\"PrdE\"], ascending=True)\n",
    "    formatted_ctd_file = ctd_file.replace(\".csv\", \"_upward_formatted.asc\").split(\"\\\\\")[-1]\n",
    "    subocean_L0= directory_subocean.replace(\"raw\", \"Level0\")\n",
    "CTD_file_path_upward = subocean_L0 + \"/\"+ formatted_ctd_file\n",
    "if len(ctd_ds_upward.Pres)>1:\n",
    "    ctd_A2PS_not_duplicated.to_csv(CTD_file_path_upward, sep='\\t', index=False)"
   ]
  },
  {
   "cell_type": "code",
   "execution_count": 69,
   "metadata": {},
   "outputs": [],
   "source": [
    "import json\n",
    "\n",
    "# Read the JSON file\n",
    "def update_experiment_title(json_path, ctd_filepath, new_title):\n",
    "    \"\"\"\n",
    "    Update experiment titles in JSON file\n",
    "    \n",
    "    Args:\n",
    "        json_path (str): Path to JSON file\n",
    "        new_title (str): New title to assign\n",
    "    \"\"\"\n",
    "    # Read JSON file\n",
    "    with open(json_path, 'r') as f:\n",
    "        data = json.load(f)\n",
    "    \n",
    "    # Update both title fields\n",
    "    data[\"Title of the experiment\"] = new_title.split(\"\\\\\")[-1]\n",
    "    data[\"Default title of the experiment\"] = new_title.split(\"\\\\\")[-1]\n",
    "    data[\"CTD filepath\"] = ctd_filepath\n",
    "    data[\"CTD interpolation type\"] = \"Pressure\"\n",
    "\n",
    "    outpath = new_title.replace(\".txt\", \".log\").replace(\"raw\", \"Level0\")\n",
    "    # Write updated JSON back to file\n",
    "    with open(outpath, 'w') as f:\n",
    "        json.dump(data, f, indent=4)\n",
    "\n",
    "# Example usage\n",
    "json_path = subocean_log\n",
    "update_experiment_title(json_path, CTD_file_path_upward, subocean_file_upward)\n",
    "update_experiment_title(json_path, CTD_file_path_downward, subocean_file_downward)"
   ]
  },
  {
   "cell_type": "code",
   "execution_count": null,
   "metadata": {},
   "outputs": [],
   "source": []
  },
  {
   "cell_type": "code",
   "execution_count": null,
   "metadata": {},
   "outputs": [],
   "source": []
  },
  {
   "cell_type": "code",
   "execution_count": null,
   "metadata": {},
   "outputs": [],
   "source": []
  }
 ],
 "metadata": {
  "kernelspec": {
   "display_name": "pylake",
   "language": "python",
   "name": "python3"
  },
  "language_info": {
   "codemirror_mode": {
    "name": "ipython",
    "version": 3
   },
   "file_extension": ".py",
   "mimetype": "text/x-python",
   "name": "python",
   "nbconvert_exporter": "python",
   "pygments_lexer": "ipython3",
   "version": "3.10.11"
  }
 },
 "nbformat": 4,
 "nbformat_minor": 2
}
